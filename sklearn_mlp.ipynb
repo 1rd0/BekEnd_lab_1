{
  "cells": [
    {
      "cell_type": "markdown",
      "metadata": {
        "id": "view-in-github",
        "colab_type": "text"
      },
      "source": [
        "<a href=\"https://colab.research.google.com/github/1rd0/BekEnd_lab_1/blob/master/sklearn_mlp.ipynb\" target=\"_parent\"><img src=\"https://colab.research.google.com/assets/colab-badge.svg\" alt=\"Open In Colab\"/></a>"
      ]
    },
    {
      "cell_type": "markdown",
      "metadata": {
        "id": "HZvz0gdW76W5"
      },
      "source": [
        "# Многослойный перцептрон\n",
        "\n",
        "## Лабораторная работа №4"
      ]
    },
    {
      "cell_type": "markdown",
      "metadata": {
        "id": "T2Pz-P4zD5sC"
      },
      "source": [
        "Присвойте строку с вашим ФИО переменной `name` и выполните ячейку. В ее выводе будет указан номер вашего варианта."
      ]
    },
    {
      "cell_type": "code",
      "execution_count": null,
      "metadata": {
        "colab": {
          "base_uri": "https://localhost:8080/"
        },
        "id": "dhoU_CP8DZvg",
        "outputId": "6ba2947b-a5a2-4f8a-9d7b-c12f4e355702"
      },
      "outputs": [
        {
          "output_type": "stream",
          "name": "stdout",
          "text": [
            "Ваш вариант - №2\n"
          ]
        }
      ],
      "source": [
        "name = \"Рабдел Дмитрий Александрович\" # Впишите ваше ФИО\n",
        "\n",
        "def calculate_variant(name):\n",
        "    return sum(ord(char) for char in name) % 2 + 1\n",
        "\n",
        "print(f\"Ваш вариант - №{calculate_variant(name)}\")"
      ]
    },
    {
      "cell_type": "markdown",
      "metadata": {
        "id": "gAFVgWfvA9cu"
      },
      "source": [
        "\n",
        "---\n",
        "\n",
        "**Впишите в эту ячейку ваши ФИО, группу и вариант**.\n",
        "\n",
        "ФИО:Рабдел Дмитрий\n",
        "\n",
        "Группа:221-371\n",
        "\n",
        "Вариант:2\n",
        "\n",
        "---\n",
        "\n",
        "Далее по ходу ноутбука вам встрется ячейки с кодом, в которых будут комментарии с заданиями, и текстовые ячейки как эта с вопросами, на которые вам необходимо письменно в ноутбуке ответить.\n",
        "\n",
        "Все ячейки необходимо запускать.\n",
        "\n",
        "Данные для вариантов лежат по ссылкам:\n",
        "\n",
        "1. http://labcolor.space/mlp-1.csv\n",
        "1. http://labcolor.space/mlp-2.csv\n",
        "\n",
        "Скопируйте ссылку для своего варианта."
      ]
    },
    {
      "cell_type": "markdown",
      "metadata": {
        "id": "hb7oukvg176R"
      },
      "source": [
        "## Импорт модулей"
      ]
    },
    {
      "cell_type": "code",
      "execution_count": null,
      "metadata": {
        "id": "HLUv2a5i1_Qv"
      },
      "outputs": [],
      "source": [
        "import numpy as np\n",
        "import matplotlib.pyplot as plt\n",
        "import pandas as pd\n",
        "import math\n",
        "\n",
        "\n",
        "%matplotlib inline\n",
        "%config InlineBackend.figure_format = 'svg'\n",
        "from matplotlib.pyplot import rcParams\n",
        "rcParams['figure.figsize'] = 12, 5"
      ]
    },
    {
      "cell_type": "markdown",
      "metadata": {
        "id": "_PqyV8DO08ZR"
      },
      "source": [
        "## Загрузка данных\n",
        "\n",
        "Используя уже знакомые вам функции, загрузите данные и проведите их анализ на предмет количества признаков, объектов и классов. В данных последний столбец это целевой признак, а первая строка — это порядковый номер признака начиная с 0."
      ]
    },
    {
      "cell_type": "code",
      "execution_count": null,
      "metadata": {
        "colab": {
          "base_uri": "https://localhost:8080/",
          "height": 350
        },
        "id": "OXvZhd9U1S8y",
        "outputId": "f98a78f3-8e0d-4481-a30d-39e7bb20d48e"
      },
      "outputs": [
        {
          "output_type": "execute_result",
          "data": {
            "text/plain": [
              "                 0            1            2            3            4  \\\n",
              "count  3999.000000  3999.000000  4000.000000  4000.000000  4000.000000   \n",
              "mean      0.024746     0.500394    -0.051431     0.195077    -0.173320   \n",
              "std       5.676004     5.550694     5.662355     5.450803     5.517875   \n",
              "min     -19.405287   -22.652231   -19.667265   -21.881980   -19.741271   \n",
              "25%      -3.728930    -3.353507    -3.786081    -3.441829    -3.843433   \n",
              "50%       0.006111     0.509518    -0.077131     0.240650    -0.101706   \n",
              "75%       3.865709     4.257142     3.685468     3.886383     3.578177   \n",
              "max      21.501254    20.473739    21.172589    22.534479    18.682272   \n",
              "\n",
              "                 5            6            7            8            9  ...  \\\n",
              "count  3999.000000  3999.000000  4000.000000  3999.000000  4000.000000  ...   \n",
              "mean     -0.008179     0.266138    -0.376966     0.026357    -0.101055  ...   \n",
              "std       5.566616     5.654875     5.511465     5.535498     5.348943  ...   \n",
              "min     -19.654484   -18.533880   -19.623795   -20.089030   -18.279167  ...   \n",
              "25%      -3.745855    -3.529528    -4.005876    -3.610773    -3.823280  ...   \n",
              "50%       0.058320     0.323044    -0.339816    -0.033490    -0.101047  ...   \n",
              "75%       3.787004     4.056428     3.318970     3.743444     3.433963  ...   \n",
              "max      19.899053    21.004332    18.777280    20.167018    18.108598  ...   \n",
              "\n",
              "                90           91           92           93           94  \\\n",
              "count  4000.000000  3999.000000  4000.000000  4000.000000  4000.000000   \n",
              "mean     -0.307124    -0.404663     0.158582     0.383045     0.165495   \n",
              "std       5.650535     5.582902     5.519649     5.603523     5.685317   \n",
              "min     -19.508074   -21.406687   -19.159398   -22.002759   -22.618761   \n",
              "25%      -4.044410    -4.030346    -3.620666    -3.403997    -3.574715   \n",
              "50%      -0.395378    -0.335830     0.060452     0.346543     0.028579   \n",
              "75%       3.437079     3.354380     3.801935     4.256211     3.839960   \n",
              "max      20.748698    23.011847    21.531888    24.865558    19.736466   \n",
              "\n",
              "                95           96           97           98           99  \n",
              "count  4000.000000  4000.000000  4000.000000  3999.000000  4000.000000  \n",
              "mean     -0.503738    -0.323991     0.105799     0.518621     0.257474  \n",
              "std       5.525141     5.618171     5.701498     5.622377     5.592407  \n",
              "min     -21.258031   -21.695871   -24.238754   -19.956897   -18.751769  \n",
              "25%      -4.216778    -4.049489    -3.773541    -3.259576    -3.543963  \n",
              "50%      -0.517919    -0.367989     0.157999     0.578396     0.212288  \n",
              "75%       3.210718     3.448604     4.017386     4.315890     4.029235  \n",
              "max      21.330885    19.314840    17.588632    18.988684    21.919094  \n",
              "\n",
              "[8 rows x 100 columns]"
            ],
            "text/html": [
              "\n",
              "  <div id=\"df-0ced0314-93ce-4ca2-a751-bb1fd2e00b4b\" class=\"colab-df-container\">\n",
              "    <div>\n",
              "<style scoped>\n",
              "    .dataframe tbody tr th:only-of-type {\n",
              "        vertical-align: middle;\n",
              "    }\n",
              "\n",
              "    .dataframe tbody tr th {\n",
              "        vertical-align: top;\n",
              "    }\n",
              "\n",
              "    .dataframe thead th {\n",
              "        text-align: right;\n",
              "    }\n",
              "</style>\n",
              "<table border=\"1\" class=\"dataframe\">\n",
              "  <thead>\n",
              "    <tr style=\"text-align: right;\">\n",
              "      <th></th>\n",
              "      <th>0</th>\n",
              "      <th>1</th>\n",
              "      <th>2</th>\n",
              "      <th>3</th>\n",
              "      <th>4</th>\n",
              "      <th>5</th>\n",
              "      <th>6</th>\n",
              "      <th>7</th>\n",
              "      <th>8</th>\n",
              "      <th>9</th>\n",
              "      <th>...</th>\n",
              "      <th>90</th>\n",
              "      <th>91</th>\n",
              "      <th>92</th>\n",
              "      <th>93</th>\n",
              "      <th>94</th>\n",
              "      <th>95</th>\n",
              "      <th>96</th>\n",
              "      <th>97</th>\n",
              "      <th>98</th>\n",
              "      <th>99</th>\n",
              "    </tr>\n",
              "  </thead>\n",
              "  <tbody>\n",
              "    <tr>\n",
              "      <th>count</th>\n",
              "      <td>3999.000000</td>\n",
              "      <td>3999.000000</td>\n",
              "      <td>4000.000000</td>\n",
              "      <td>4000.000000</td>\n",
              "      <td>4000.000000</td>\n",
              "      <td>3999.000000</td>\n",
              "      <td>3999.000000</td>\n",
              "      <td>4000.000000</td>\n",
              "      <td>3999.000000</td>\n",
              "      <td>4000.000000</td>\n",
              "      <td>...</td>\n",
              "      <td>4000.000000</td>\n",
              "      <td>3999.000000</td>\n",
              "      <td>4000.000000</td>\n",
              "      <td>4000.000000</td>\n",
              "      <td>4000.000000</td>\n",
              "      <td>4000.000000</td>\n",
              "      <td>4000.000000</td>\n",
              "      <td>4000.000000</td>\n",
              "      <td>3999.000000</td>\n",
              "      <td>4000.000000</td>\n",
              "    </tr>\n",
              "    <tr>\n",
              "      <th>mean</th>\n",
              "      <td>0.024746</td>\n",
              "      <td>0.500394</td>\n",
              "      <td>-0.051431</td>\n",
              "      <td>0.195077</td>\n",
              "      <td>-0.173320</td>\n",
              "      <td>-0.008179</td>\n",
              "      <td>0.266138</td>\n",
              "      <td>-0.376966</td>\n",
              "      <td>0.026357</td>\n",
              "      <td>-0.101055</td>\n",
              "      <td>...</td>\n",
              "      <td>-0.307124</td>\n",
              "      <td>-0.404663</td>\n",
              "      <td>0.158582</td>\n",
              "      <td>0.383045</td>\n",
              "      <td>0.165495</td>\n",
              "      <td>-0.503738</td>\n",
              "      <td>-0.323991</td>\n",
              "      <td>0.105799</td>\n",
              "      <td>0.518621</td>\n",
              "      <td>0.257474</td>\n",
              "    </tr>\n",
              "    <tr>\n",
              "      <th>std</th>\n",
              "      <td>5.676004</td>\n",
              "      <td>5.550694</td>\n",
              "      <td>5.662355</td>\n",
              "      <td>5.450803</td>\n",
              "      <td>5.517875</td>\n",
              "      <td>5.566616</td>\n",
              "      <td>5.654875</td>\n",
              "      <td>5.511465</td>\n",
              "      <td>5.535498</td>\n",
              "      <td>5.348943</td>\n",
              "      <td>...</td>\n",
              "      <td>5.650535</td>\n",
              "      <td>5.582902</td>\n",
              "      <td>5.519649</td>\n",
              "      <td>5.603523</td>\n",
              "      <td>5.685317</td>\n",
              "      <td>5.525141</td>\n",
              "      <td>5.618171</td>\n",
              "      <td>5.701498</td>\n",
              "      <td>5.622377</td>\n",
              "      <td>5.592407</td>\n",
              "    </tr>\n",
              "    <tr>\n",
              "      <th>min</th>\n",
              "      <td>-19.405287</td>\n",
              "      <td>-22.652231</td>\n",
              "      <td>-19.667265</td>\n",
              "      <td>-21.881980</td>\n",
              "      <td>-19.741271</td>\n",
              "      <td>-19.654484</td>\n",
              "      <td>-18.533880</td>\n",
              "      <td>-19.623795</td>\n",
              "      <td>-20.089030</td>\n",
              "      <td>-18.279167</td>\n",
              "      <td>...</td>\n",
              "      <td>-19.508074</td>\n",
              "      <td>-21.406687</td>\n",
              "      <td>-19.159398</td>\n",
              "      <td>-22.002759</td>\n",
              "      <td>-22.618761</td>\n",
              "      <td>-21.258031</td>\n",
              "      <td>-21.695871</td>\n",
              "      <td>-24.238754</td>\n",
              "      <td>-19.956897</td>\n",
              "      <td>-18.751769</td>\n",
              "    </tr>\n",
              "    <tr>\n",
              "      <th>25%</th>\n",
              "      <td>-3.728930</td>\n",
              "      <td>-3.353507</td>\n",
              "      <td>-3.786081</td>\n",
              "      <td>-3.441829</td>\n",
              "      <td>-3.843433</td>\n",
              "      <td>-3.745855</td>\n",
              "      <td>-3.529528</td>\n",
              "      <td>-4.005876</td>\n",
              "      <td>-3.610773</td>\n",
              "      <td>-3.823280</td>\n",
              "      <td>...</td>\n",
              "      <td>-4.044410</td>\n",
              "      <td>-4.030346</td>\n",
              "      <td>-3.620666</td>\n",
              "      <td>-3.403997</td>\n",
              "      <td>-3.574715</td>\n",
              "      <td>-4.216778</td>\n",
              "      <td>-4.049489</td>\n",
              "      <td>-3.773541</td>\n",
              "      <td>-3.259576</td>\n",
              "      <td>-3.543963</td>\n",
              "    </tr>\n",
              "    <tr>\n",
              "      <th>50%</th>\n",
              "      <td>0.006111</td>\n",
              "      <td>0.509518</td>\n",
              "      <td>-0.077131</td>\n",
              "      <td>0.240650</td>\n",
              "      <td>-0.101706</td>\n",
              "      <td>0.058320</td>\n",
              "      <td>0.323044</td>\n",
              "      <td>-0.339816</td>\n",
              "      <td>-0.033490</td>\n",
              "      <td>-0.101047</td>\n",
              "      <td>...</td>\n",
              "      <td>-0.395378</td>\n",
              "      <td>-0.335830</td>\n",
              "      <td>0.060452</td>\n",
              "      <td>0.346543</td>\n",
              "      <td>0.028579</td>\n",
              "      <td>-0.517919</td>\n",
              "      <td>-0.367989</td>\n",
              "      <td>0.157999</td>\n",
              "      <td>0.578396</td>\n",
              "      <td>0.212288</td>\n",
              "    </tr>\n",
              "    <tr>\n",
              "      <th>75%</th>\n",
              "      <td>3.865709</td>\n",
              "      <td>4.257142</td>\n",
              "      <td>3.685468</td>\n",
              "      <td>3.886383</td>\n",
              "      <td>3.578177</td>\n",
              "      <td>3.787004</td>\n",
              "      <td>4.056428</td>\n",
              "      <td>3.318970</td>\n",
              "      <td>3.743444</td>\n",
              "      <td>3.433963</td>\n",
              "      <td>...</td>\n",
              "      <td>3.437079</td>\n",
              "      <td>3.354380</td>\n",
              "      <td>3.801935</td>\n",
              "      <td>4.256211</td>\n",
              "      <td>3.839960</td>\n",
              "      <td>3.210718</td>\n",
              "      <td>3.448604</td>\n",
              "      <td>4.017386</td>\n",
              "      <td>4.315890</td>\n",
              "      <td>4.029235</td>\n",
              "    </tr>\n",
              "    <tr>\n",
              "      <th>max</th>\n",
              "      <td>21.501254</td>\n",
              "      <td>20.473739</td>\n",
              "      <td>21.172589</td>\n",
              "      <td>22.534479</td>\n",
              "      <td>18.682272</td>\n",
              "      <td>19.899053</td>\n",
              "      <td>21.004332</td>\n",
              "      <td>18.777280</td>\n",
              "      <td>20.167018</td>\n",
              "      <td>18.108598</td>\n",
              "      <td>...</td>\n",
              "      <td>20.748698</td>\n",
              "      <td>23.011847</td>\n",
              "      <td>21.531888</td>\n",
              "      <td>24.865558</td>\n",
              "      <td>19.736466</td>\n",
              "      <td>21.330885</td>\n",
              "      <td>19.314840</td>\n",
              "      <td>17.588632</td>\n",
              "      <td>18.988684</td>\n",
              "      <td>21.919094</td>\n",
              "    </tr>\n",
              "  </tbody>\n",
              "</table>\n",
              "<p>8 rows × 100 columns</p>\n",
              "</div>\n",
              "    <div class=\"colab-df-buttons\">\n",
              "\n",
              "  <div class=\"colab-df-container\">\n",
              "    <button class=\"colab-df-convert\" onclick=\"convertToInteractive('df-0ced0314-93ce-4ca2-a751-bb1fd2e00b4b')\"\n",
              "            title=\"Convert this dataframe to an interactive table.\"\n",
              "            style=\"display:none;\">\n",
              "\n",
              "  <svg xmlns=\"http://www.w3.org/2000/svg\" height=\"24px\" viewBox=\"0 -960 960 960\">\n",
              "    <path d=\"M120-120v-720h720v720H120Zm60-500h600v-160H180v160Zm220 220h160v-160H400v160Zm0 220h160v-160H400v160ZM180-400h160v-160H180v160Zm440 0h160v-160H620v160ZM180-180h160v-160H180v160Zm440 0h160v-160H620v160Z\"/>\n",
              "  </svg>\n",
              "    </button>\n",
              "\n",
              "  <style>\n",
              "    .colab-df-container {\n",
              "      display:flex;\n",
              "      gap: 12px;\n",
              "    }\n",
              "\n",
              "    .colab-df-convert {\n",
              "      background-color: #E8F0FE;\n",
              "      border: none;\n",
              "      border-radius: 50%;\n",
              "      cursor: pointer;\n",
              "      display: none;\n",
              "      fill: #1967D2;\n",
              "      height: 32px;\n",
              "      padding: 0 0 0 0;\n",
              "      width: 32px;\n",
              "    }\n",
              "\n",
              "    .colab-df-convert:hover {\n",
              "      background-color: #E2EBFA;\n",
              "      box-shadow: 0px 1px 2px rgba(60, 64, 67, 0.3), 0px 1px 3px 1px rgba(60, 64, 67, 0.15);\n",
              "      fill: #174EA6;\n",
              "    }\n",
              "\n",
              "    .colab-df-buttons div {\n",
              "      margin-bottom: 4px;\n",
              "    }\n",
              "\n",
              "    [theme=dark] .colab-df-convert {\n",
              "      background-color: #3B4455;\n",
              "      fill: #D2E3FC;\n",
              "    }\n",
              "\n",
              "    [theme=dark] .colab-df-convert:hover {\n",
              "      background-color: #434B5C;\n",
              "      box-shadow: 0px 1px 3px 1px rgba(0, 0, 0, 0.15);\n",
              "      filter: drop-shadow(0px 1px 2px rgba(0, 0, 0, 0.3));\n",
              "      fill: #FFFFFF;\n",
              "    }\n",
              "  </style>\n",
              "\n",
              "    <script>\n",
              "      const buttonEl =\n",
              "        document.querySelector('#df-0ced0314-93ce-4ca2-a751-bb1fd2e00b4b button.colab-df-convert');\n",
              "      buttonEl.style.display =\n",
              "        google.colab.kernel.accessAllowed ? 'block' : 'none';\n",
              "\n",
              "      async function convertToInteractive(key) {\n",
              "        const element = document.querySelector('#df-0ced0314-93ce-4ca2-a751-bb1fd2e00b4b');\n",
              "        const dataTable =\n",
              "          await google.colab.kernel.invokeFunction('convertToInteractive',\n",
              "                                                    [key], {});\n",
              "        if (!dataTable) return;\n",
              "\n",
              "        const docLinkHtml = 'Like what you see? Visit the ' +\n",
              "          '<a target=\"_blank\" href=https://colab.research.google.com/notebooks/data_table.ipynb>data table notebook</a>'\n",
              "          + ' to learn more about interactive tables.';\n",
              "        element.innerHTML = '';\n",
              "        dataTable['output_type'] = 'display_data';\n",
              "        await google.colab.output.renderOutput(dataTable, element);\n",
              "        const docLink = document.createElement('div');\n",
              "        docLink.innerHTML = docLinkHtml;\n",
              "        element.appendChild(docLink);\n",
              "      }\n",
              "    </script>\n",
              "  </div>\n",
              "\n",
              "\n",
              "<div id=\"df-b4abef19-123a-4355-8239-10fffca527c4\">\n",
              "  <button class=\"colab-df-quickchart\" onclick=\"quickchart('df-b4abef19-123a-4355-8239-10fffca527c4')\"\n",
              "            title=\"Suggest charts\"\n",
              "            style=\"display:none;\">\n",
              "\n",
              "<svg xmlns=\"http://www.w3.org/2000/svg\" height=\"24px\"viewBox=\"0 0 24 24\"\n",
              "     width=\"24px\">\n",
              "    <g>\n",
              "        <path d=\"M19 3H5c-1.1 0-2 .9-2 2v14c0 1.1.9 2 2 2h14c1.1 0 2-.9 2-2V5c0-1.1-.9-2-2-2zM9 17H7v-7h2v7zm4 0h-2V7h2v10zm4 0h-2v-4h2v4z\"/>\n",
              "    </g>\n",
              "</svg>\n",
              "  </button>\n",
              "\n",
              "<style>\n",
              "  .colab-df-quickchart {\n",
              "      --bg-color: #E8F0FE;\n",
              "      --fill-color: #1967D2;\n",
              "      --hover-bg-color: #E2EBFA;\n",
              "      --hover-fill-color: #174EA6;\n",
              "      --disabled-fill-color: #AAA;\n",
              "      --disabled-bg-color: #DDD;\n",
              "  }\n",
              "\n",
              "  [theme=dark] .colab-df-quickchart {\n",
              "      --bg-color: #3B4455;\n",
              "      --fill-color: #D2E3FC;\n",
              "      --hover-bg-color: #434B5C;\n",
              "      --hover-fill-color: #FFFFFF;\n",
              "      --disabled-bg-color: #3B4455;\n",
              "      --disabled-fill-color: #666;\n",
              "  }\n",
              "\n",
              "  .colab-df-quickchart {\n",
              "    background-color: var(--bg-color);\n",
              "    border: none;\n",
              "    border-radius: 50%;\n",
              "    cursor: pointer;\n",
              "    display: none;\n",
              "    fill: var(--fill-color);\n",
              "    height: 32px;\n",
              "    padding: 0;\n",
              "    width: 32px;\n",
              "  }\n",
              "\n",
              "  .colab-df-quickchart:hover {\n",
              "    background-color: var(--hover-bg-color);\n",
              "    box-shadow: 0 1px 2px rgba(60, 64, 67, 0.3), 0 1px 3px 1px rgba(60, 64, 67, 0.15);\n",
              "    fill: var(--button-hover-fill-color);\n",
              "  }\n",
              "\n",
              "  .colab-df-quickchart-complete:disabled,\n",
              "  .colab-df-quickchart-complete:disabled:hover {\n",
              "    background-color: var(--disabled-bg-color);\n",
              "    fill: var(--disabled-fill-color);\n",
              "    box-shadow: none;\n",
              "  }\n",
              "\n",
              "  .colab-df-spinner {\n",
              "    border: 2px solid var(--fill-color);\n",
              "    border-color: transparent;\n",
              "    border-bottom-color: var(--fill-color);\n",
              "    animation:\n",
              "      spin 1s steps(1) infinite;\n",
              "  }\n",
              "\n",
              "  @keyframes spin {\n",
              "    0% {\n",
              "      border-color: transparent;\n",
              "      border-bottom-color: var(--fill-color);\n",
              "      border-left-color: var(--fill-color);\n",
              "    }\n",
              "    20% {\n",
              "      border-color: transparent;\n",
              "      border-left-color: var(--fill-color);\n",
              "      border-top-color: var(--fill-color);\n",
              "    }\n",
              "    30% {\n",
              "      border-color: transparent;\n",
              "      border-left-color: var(--fill-color);\n",
              "      border-top-color: var(--fill-color);\n",
              "      border-right-color: var(--fill-color);\n",
              "    }\n",
              "    40% {\n",
              "      border-color: transparent;\n",
              "      border-right-color: var(--fill-color);\n",
              "      border-top-color: var(--fill-color);\n",
              "    }\n",
              "    60% {\n",
              "      border-color: transparent;\n",
              "      border-right-color: var(--fill-color);\n",
              "    }\n",
              "    80% {\n",
              "      border-color: transparent;\n",
              "      border-right-color: var(--fill-color);\n",
              "      border-bottom-color: var(--fill-color);\n",
              "    }\n",
              "    90% {\n",
              "      border-color: transparent;\n",
              "      border-bottom-color: var(--fill-color);\n",
              "    }\n",
              "  }\n",
              "</style>\n",
              "\n",
              "  <script>\n",
              "    async function quickchart(key) {\n",
              "      const quickchartButtonEl =\n",
              "        document.querySelector('#' + key + ' button');\n",
              "      quickchartButtonEl.disabled = true;  // To prevent multiple clicks.\n",
              "      quickchartButtonEl.classList.add('colab-df-spinner');\n",
              "      try {\n",
              "        const charts = await google.colab.kernel.invokeFunction(\n",
              "            'suggestCharts', [key], {});\n",
              "      } catch (error) {\n",
              "        console.error('Error during call to suggestCharts:', error);\n",
              "      }\n",
              "      quickchartButtonEl.classList.remove('colab-df-spinner');\n",
              "      quickchartButtonEl.classList.add('colab-df-quickchart-complete');\n",
              "    }\n",
              "    (() => {\n",
              "      let quickchartButtonEl =\n",
              "        document.querySelector('#df-b4abef19-123a-4355-8239-10fffca527c4 button');\n",
              "      quickchartButtonEl.style.display =\n",
              "        google.colab.kernel.accessAllowed ? 'block' : 'none';\n",
              "    })();\n",
              "  </script>\n",
              "</div>\n",
              "    </div>\n",
              "  </div>\n"
            ],
            "application/vnd.google.colaboratory.intrinsic+json": {
              "type": "dataframe"
            }
          },
          "metadata": {},
          "execution_count": 3
        }
      ],
      "source": [
        "#\n",
        "df = pd.read_csv('/content/mlp-2.csv',dtype={'100':'category'})\n",
        "df.describe(include  = 'number')\n",
        "\n",
        "#"
      ]
    },
    {
      "cell_type": "markdown",
      "metadata": {
        "id": "m9m0a_sb1UvO"
      },
      "source": [
        "**Описание данных**\n",
        "\n",
        "Ваш ответ:\n",
        "4000 sample\n",
        "100 category"
      ]
    },
    {
      "cell_type": "code",
      "execution_count": null,
      "metadata": {
        "colab": {
          "base_uri": "https://localhost:8080/",
          "height": 175
        },
        "id": "WSd64nQlZNmu",
        "outputId": "615b559e-9ce0-4290-af7b-de6d956f3372"
      },
      "outputs": [
        {
          "output_type": "execute_result",
          "data": {
            "text/plain": [
              "         100\n",
              "count   4000\n",
              "unique     8\n",
              "top        1\n",
              "freq     506"
            ],
            "text/html": [
              "\n",
              "  <div id=\"df-0b2b20cf-8a70-4fc8-8e3b-8d956952e510\" class=\"colab-df-container\">\n",
              "    <div>\n",
              "<style scoped>\n",
              "    .dataframe tbody tr th:only-of-type {\n",
              "        vertical-align: middle;\n",
              "    }\n",
              "\n",
              "    .dataframe tbody tr th {\n",
              "        vertical-align: top;\n",
              "    }\n",
              "\n",
              "    .dataframe thead th {\n",
              "        text-align: right;\n",
              "    }\n",
              "</style>\n",
              "<table border=\"1\" class=\"dataframe\">\n",
              "  <thead>\n",
              "    <tr style=\"text-align: right;\">\n",
              "      <th></th>\n",
              "      <th>100</th>\n",
              "    </tr>\n",
              "  </thead>\n",
              "  <tbody>\n",
              "    <tr>\n",
              "      <th>count</th>\n",
              "      <td>4000</td>\n",
              "    </tr>\n",
              "    <tr>\n",
              "      <th>unique</th>\n",
              "      <td>8</td>\n",
              "    </tr>\n",
              "    <tr>\n",
              "      <th>top</th>\n",
              "      <td>1</td>\n",
              "    </tr>\n",
              "    <tr>\n",
              "      <th>freq</th>\n",
              "      <td>506</td>\n",
              "    </tr>\n",
              "  </tbody>\n",
              "</table>\n",
              "</div>\n",
              "    <div class=\"colab-df-buttons\">\n",
              "\n",
              "  <div class=\"colab-df-container\">\n",
              "    <button class=\"colab-df-convert\" onclick=\"convertToInteractive('df-0b2b20cf-8a70-4fc8-8e3b-8d956952e510')\"\n",
              "            title=\"Convert this dataframe to an interactive table.\"\n",
              "            style=\"display:none;\">\n",
              "\n",
              "  <svg xmlns=\"http://www.w3.org/2000/svg\" height=\"24px\" viewBox=\"0 -960 960 960\">\n",
              "    <path d=\"M120-120v-720h720v720H120Zm60-500h600v-160H180v160Zm220 220h160v-160H400v160Zm0 220h160v-160H400v160ZM180-400h160v-160H180v160Zm440 0h160v-160H620v160ZM180-180h160v-160H180v160Zm440 0h160v-160H620v160Z\"/>\n",
              "  </svg>\n",
              "    </button>\n",
              "\n",
              "  <style>\n",
              "    .colab-df-container {\n",
              "      display:flex;\n",
              "      gap: 12px;\n",
              "    }\n",
              "\n",
              "    .colab-df-convert {\n",
              "      background-color: #E8F0FE;\n",
              "      border: none;\n",
              "      border-radius: 50%;\n",
              "      cursor: pointer;\n",
              "      display: none;\n",
              "      fill: #1967D2;\n",
              "      height: 32px;\n",
              "      padding: 0 0 0 0;\n",
              "      width: 32px;\n",
              "    }\n",
              "\n",
              "    .colab-df-convert:hover {\n",
              "      background-color: #E2EBFA;\n",
              "      box-shadow: 0px 1px 2px rgba(60, 64, 67, 0.3), 0px 1px 3px 1px rgba(60, 64, 67, 0.15);\n",
              "      fill: #174EA6;\n",
              "    }\n",
              "\n",
              "    .colab-df-buttons div {\n",
              "      margin-bottom: 4px;\n",
              "    }\n",
              "\n",
              "    [theme=dark] .colab-df-convert {\n",
              "      background-color: #3B4455;\n",
              "      fill: #D2E3FC;\n",
              "    }\n",
              "\n",
              "    [theme=dark] .colab-df-convert:hover {\n",
              "      background-color: #434B5C;\n",
              "      box-shadow: 0px 1px 3px 1px rgba(0, 0, 0, 0.15);\n",
              "      filter: drop-shadow(0px 1px 2px rgba(0, 0, 0, 0.3));\n",
              "      fill: #FFFFFF;\n",
              "    }\n",
              "  </style>\n",
              "\n",
              "    <script>\n",
              "      const buttonEl =\n",
              "        document.querySelector('#df-0b2b20cf-8a70-4fc8-8e3b-8d956952e510 button.colab-df-convert');\n",
              "      buttonEl.style.display =\n",
              "        google.colab.kernel.accessAllowed ? 'block' : 'none';\n",
              "\n",
              "      async function convertToInteractive(key) {\n",
              "        const element = document.querySelector('#df-0b2b20cf-8a70-4fc8-8e3b-8d956952e510');\n",
              "        const dataTable =\n",
              "          await google.colab.kernel.invokeFunction('convertToInteractive',\n",
              "                                                    [key], {});\n",
              "        if (!dataTable) return;\n",
              "\n",
              "        const docLinkHtml = 'Like what you see? Visit the ' +\n",
              "          '<a target=\"_blank\" href=https://colab.research.google.com/notebooks/data_table.ipynb>data table notebook</a>'\n",
              "          + ' to learn more about interactive tables.';\n",
              "        element.innerHTML = '';\n",
              "        dataTable['output_type'] = 'display_data';\n",
              "        await google.colab.output.renderOutput(dataTable, element);\n",
              "        const docLink = document.createElement('div');\n",
              "        docLink.innerHTML = docLinkHtml;\n",
              "        element.appendChild(docLink);\n",
              "      }\n",
              "    </script>\n",
              "  </div>\n",
              "\n",
              "\n",
              "<div id=\"df-8bb18278-a767-4955-966f-f399fc306515\">\n",
              "  <button class=\"colab-df-quickchart\" onclick=\"quickchart('df-8bb18278-a767-4955-966f-f399fc306515')\"\n",
              "            title=\"Suggest charts\"\n",
              "            style=\"display:none;\">\n",
              "\n",
              "<svg xmlns=\"http://www.w3.org/2000/svg\" height=\"24px\"viewBox=\"0 0 24 24\"\n",
              "     width=\"24px\">\n",
              "    <g>\n",
              "        <path d=\"M19 3H5c-1.1 0-2 .9-2 2v14c0 1.1.9 2 2 2h14c1.1 0 2-.9 2-2V5c0-1.1-.9-2-2-2zM9 17H7v-7h2v7zm4 0h-2V7h2v10zm4 0h-2v-4h2v4z\"/>\n",
              "    </g>\n",
              "</svg>\n",
              "  </button>\n",
              "\n",
              "<style>\n",
              "  .colab-df-quickchart {\n",
              "      --bg-color: #E8F0FE;\n",
              "      --fill-color: #1967D2;\n",
              "      --hover-bg-color: #E2EBFA;\n",
              "      --hover-fill-color: #174EA6;\n",
              "      --disabled-fill-color: #AAA;\n",
              "      --disabled-bg-color: #DDD;\n",
              "  }\n",
              "\n",
              "  [theme=dark] .colab-df-quickchart {\n",
              "      --bg-color: #3B4455;\n",
              "      --fill-color: #D2E3FC;\n",
              "      --hover-bg-color: #434B5C;\n",
              "      --hover-fill-color: #FFFFFF;\n",
              "      --disabled-bg-color: #3B4455;\n",
              "      --disabled-fill-color: #666;\n",
              "  }\n",
              "\n",
              "  .colab-df-quickchart {\n",
              "    background-color: var(--bg-color);\n",
              "    border: none;\n",
              "    border-radius: 50%;\n",
              "    cursor: pointer;\n",
              "    display: none;\n",
              "    fill: var(--fill-color);\n",
              "    height: 32px;\n",
              "    padding: 0;\n",
              "    width: 32px;\n",
              "  }\n",
              "\n",
              "  .colab-df-quickchart:hover {\n",
              "    background-color: var(--hover-bg-color);\n",
              "    box-shadow: 0 1px 2px rgba(60, 64, 67, 0.3), 0 1px 3px 1px rgba(60, 64, 67, 0.15);\n",
              "    fill: var(--button-hover-fill-color);\n",
              "  }\n",
              "\n",
              "  .colab-df-quickchart-complete:disabled,\n",
              "  .colab-df-quickchart-complete:disabled:hover {\n",
              "    background-color: var(--disabled-bg-color);\n",
              "    fill: var(--disabled-fill-color);\n",
              "    box-shadow: none;\n",
              "  }\n",
              "\n",
              "  .colab-df-spinner {\n",
              "    border: 2px solid var(--fill-color);\n",
              "    border-color: transparent;\n",
              "    border-bottom-color: var(--fill-color);\n",
              "    animation:\n",
              "      spin 1s steps(1) infinite;\n",
              "  }\n",
              "\n",
              "  @keyframes spin {\n",
              "    0% {\n",
              "      border-color: transparent;\n",
              "      border-bottom-color: var(--fill-color);\n",
              "      border-left-color: var(--fill-color);\n",
              "    }\n",
              "    20% {\n",
              "      border-color: transparent;\n",
              "      border-left-color: var(--fill-color);\n",
              "      border-top-color: var(--fill-color);\n",
              "    }\n",
              "    30% {\n",
              "      border-color: transparent;\n",
              "      border-left-color: var(--fill-color);\n",
              "      border-top-color: var(--fill-color);\n",
              "      border-right-color: var(--fill-color);\n",
              "    }\n",
              "    40% {\n",
              "      border-color: transparent;\n",
              "      border-right-color: var(--fill-color);\n",
              "      border-top-color: var(--fill-color);\n",
              "    }\n",
              "    60% {\n",
              "      border-color: transparent;\n",
              "      border-right-color: var(--fill-color);\n",
              "    }\n",
              "    80% {\n",
              "      border-color: transparent;\n",
              "      border-right-color: var(--fill-color);\n",
              "      border-bottom-color: var(--fill-color);\n",
              "    }\n",
              "    90% {\n",
              "      border-color: transparent;\n",
              "      border-bottom-color: var(--fill-color);\n",
              "    }\n",
              "  }\n",
              "</style>\n",
              "\n",
              "  <script>\n",
              "    async function quickchart(key) {\n",
              "      const quickchartButtonEl =\n",
              "        document.querySelector('#' + key + ' button');\n",
              "      quickchartButtonEl.disabled = true;  // To prevent multiple clicks.\n",
              "      quickchartButtonEl.classList.add('colab-df-spinner');\n",
              "      try {\n",
              "        const charts = await google.colab.kernel.invokeFunction(\n",
              "            'suggestCharts', [key], {});\n",
              "      } catch (error) {\n",
              "        console.error('Error during call to suggestCharts:', error);\n",
              "      }\n",
              "      quickchartButtonEl.classList.remove('colab-df-spinner');\n",
              "      quickchartButtonEl.classList.add('colab-df-quickchart-complete');\n",
              "    }\n",
              "    (() => {\n",
              "      let quickchartButtonEl =\n",
              "        document.querySelector('#df-8bb18278-a767-4955-966f-f399fc306515 button');\n",
              "      quickchartButtonEl.style.display =\n",
              "        google.colab.kernel.accessAllowed ? 'block' : 'none';\n",
              "    })();\n",
              "  </script>\n",
              "</div>\n",
              "    </div>\n",
              "  </div>\n"
            ],
            "application/vnd.google.colaboratory.intrinsic+json": {
              "type": "dataframe",
              "summary": "{\n  \"name\": \"df\",\n  \"rows\": 4,\n  \"fields\": [\n    {\n      \"column\": \"100\",\n      \"properties\": {\n        \"dtype\": \"string\",\n        \"samples\": [\n          8,\n          \"506\",\n          \"4000\"\n        ],\n        \"num_unique_values\": 4,\n        \"semantic_type\": \"\",\n        \"description\": \"\"\n      }\n    }\n  ]\n}"
            }
          },
          "metadata": {},
          "execution_count": 4
        }
      ],
      "source": [
        "df.describe(include='category')"
      ]
    },
    {
      "cell_type": "markdown",
      "metadata": {
        "id": "mkDyyOpzZVg2"
      },
      "source": []
    },
    {
      "cell_type": "markdown",
      "metadata": {
        "id": "1m7Zs2RS1krd"
      },
      "source": [
        "## Подготовка данных\n",
        "\n",
        "Убедитесь что в данных нет отсутствующих значений, если они есть, удалите их или заполните средними значениями - `df.isnull()`."
      ]
    },
    {
      "cell_type": "code",
      "execution_count": null,
      "metadata": {
        "colab": {
          "base_uri": "https://localhost:8080/"
        },
        "id": "njpVm4861w4p",
        "outputId": "8eb8e148-e108-4e18-8636-9a8226d15092"
      },
      "outputs": [
        {
          "output_type": "execute_result",
          "data": {
            "text/plain": [
              "0       True\n",
              "1       True\n",
              "2      False\n",
              "3      False\n",
              "4      False\n",
              "       ...  \n",
              "96     False\n",
              "97     False\n",
              "98      True\n",
              "99     False\n",
              "100    False\n",
              "Length: 101, dtype: bool"
            ]
          },
          "metadata": {},
          "execution_count": 5
        }
      ],
      "source": [
        "\n",
        "df.isnull().any()"
      ]
    },
    {
      "cell_type": "code",
      "execution_count": null,
      "metadata": {
        "colab": {
          "base_uri": "https://localhost:8080/"
        },
        "id": "Uu2MnhALv0yb",
        "outputId": "101590e7-b13e-421f-9243-4be51f370c8a"
      },
      "outputs": [
        {
          "output_type": "stream",
          "name": "stderr",
          "text": [
            "<ipython-input-6-01d67e0976d8>:1: FutureWarning: The default value of numeric_only in DataFrame.mean is deprecated. In a future version, it will default to False. In addition, specifying 'numeric_only=None' is deprecated. Select only valid columns or specify the value of numeric_only to silence this warning.\n",
            "  df = df.fillna(df.mean())\n"
          ]
        },
        {
          "output_type": "execute_result",
          "data": {
            "text/plain": [
              "0      False\n",
              "1      False\n",
              "2      False\n",
              "3      False\n",
              "4      False\n",
              "       ...  \n",
              "96     False\n",
              "97     False\n",
              "98     False\n",
              "99     False\n",
              "100    False\n",
              "Length: 101, dtype: bool"
            ]
          },
          "metadata": {},
          "execution_count": 6
        }
      ],
      "source": [
        "df = df.fillna(df.mean())\n",
        "df.isnull().any()"
      ]
    },
    {
      "cell_type": "code",
      "source": [],
      "metadata": {
        "id": "uqg58pcXu__Y"
      },
      "execution_count": null,
      "outputs": []
    },
    {
      "cell_type": "markdown",
      "metadata": {
        "id": "ReT7oB2f1xOL"
      },
      "source": [
        "**Были ли отсутствующие значения и что вы с ними сделали?**\n",
        "\n",
        "Ваш ответ:нет"
      ]
    },
    {
      "cell_type": "markdown",
      "metadata": {
        "id": "3wIj3aO58Mpx"
      },
      "source": [
        "С помощью `train_test_split` разделите данные на обучающие и тестовые (15-20%). Не забудьте про `random_state`."
      ]
    },
    {
      "cell_type": "code",
      "execution_count": null,
      "metadata": {
        "id": "ZoU2kgqXmPTV"
      },
      "outputs": [],
      "source": [
        "y = df.pop('100')\n",
        "X = df"
      ]
    },
    {
      "cell_type": "code",
      "source": [
        "y"
      ],
      "metadata": {
        "id": "4CJRZQZ3vndB",
        "colab": {
          "base_uri": "https://localhost:8080/"
        },
        "outputId": "812b963b-2713-43c0-8cc3-4e6c910c2a03"
      },
      "execution_count": null,
      "outputs": [
        {
          "output_type": "execute_result",
          "data": {
            "text/plain": [
              "0       7.0\n",
              "1       7.0\n",
              "2       6.0\n",
              "3       7.0\n",
              "4       5.0\n",
              "       ... \n",
              "3995    6.0\n",
              "3996    3.0\n",
              "3997    6.0\n",
              "3998    0.0\n",
              "3999    6.0\n",
              "Name: 100, Length: 4000, dtype: float64"
            ]
          },
          "metadata": {},
          "execution_count": 27
        }
      ]
    },
    {
      "cell_type": "code",
      "execution_count": null,
      "metadata": {
        "id": "OnVBVqiQ8bCl"
      },
      "outputs": [],
      "source": [
        "from sklearn.model_selection import train_test_split #для разделения данных на тренировочный и тестовый наборы.\n",
        "X_train, X_test, y_train, y_test =  train_test_split(X,y,train_size=0.85,random_state=42)# Ваш код"
      ]
    },
    {
      "cell_type": "markdown",
      "metadata": {
        "id": "0A50H4999EEf"
      },
      "source": [
        "Масштабируйте признаки. Для этого импортируйте соответствующий класс, создайте его экземпляр, выполните его \"подгонку\" и примените его к признакам."
      ]
    },
    {
      "cell_type": "code",
      "execution_count": null,
      "metadata": {
        "id": "viG4aI_I9EWo"
      },
      "outputs": [],
      "source": [
        "from sklearn.neural_network import MLPClassifier\n",
        "from sklearn.datasets import make_classification\n",
        "from sklearn.model_selection import train_test_split\n",
        "\n",
        "from sklearn.preprocessing import StandardScaler\n",
        "\n",
        "scaler = StandardScaler() #стандартизации данны\n",
        "scaler.fit(X_train,y_train)\n",
        "# Ваш код\n",
        "X_train_scaled = scaler.transform(X_train)\n",
        "X_test_scaled =scaler.transform(X_test)\n",
        "\n",
        "\n"
      ]
    },
    {
      "cell_type": "markdown",
      "metadata": {
        "id": "p0LFn0mC9_RX"
      },
      "source": [
        "## Обучение модели и подборка гиперпараметров\n",
        "\n",
        "Гиперпараметры и их значения задаются в виде словаря и затем вместе с экземпляром модели в качестве аргументов передаются в конструктор класса `GridSearchCV`, который будет создавать разные варианты модели и обучать их, используя кросс валидацию, сохраняя промежуточные результаты.\n",
        "\n",
        "Попробуйте разные варианты:\n",
        "* количества нейронов в скрытых слоях (hidden_layer_sizes),\n",
        "* функций активации (activation),\n",
        "* скорости обучения (learning_rate_init)."
      ]
    },
    {
      "cell_type": "markdown",
      "metadata": {
        "id": "Bqa2xa6U_H-m"
      },
      "source": [
        "**Что такое гиперпараметры для модели?**\n",
        "\n",
        "Ваш ответ:Это настройки, которые мы выбираем перед обучением, такие как скорость обучения и количество слоев в нейронной сети.\n",
        "\n",
        "**Опишите суть кросс валидации.**\n",
        "\n",
        "Ваш ответ:Основная идея заключается в том, чтобы разделить доступные данные на несколько частей (называемых \"складками\" или \"фолдами\"), затем обучать модель на одной части и оценивать её производительность на оставшихся частях данных.\n",
        "\n",
        "**В чем заключается идея поиска по сетке (grid search)?**\n",
        "\n",
        "Ваш ответ:Систематический перебор различных комбинаций гиперпараметров для нахождения наилучшей конфигурации модели."
      ]
    },
    {
      "cell_type": "code",
      "execution_count": null,
      "metadata": {
        "id": "utuYQLEr-IRy"
      },
      "outputs": [],
      "source": [
        "param_grid = {\n",
        "\n",
        "    'activation': ['logistic', 'relu', 'tanh'],\n",
        "    'solver': ['sgd', 'adam'],\n",
        "    'max_iter': [200, 500],  # Попробуйте различные значения\n",
        "    'tol': [1e-4, 1e-3],  # Попробуйте различные значения\n",
        "#{'activation': 'relu', 'max_iter': 200, 'solver': 'adam', 'tol': 0.0001}\n",
        "\n",
        "}"
      ]
    },
    {
      "cell_type": "markdown",
      "metadata": {
        "id": "cxLLtdP6CIv-"
      },
      "source": [
        "**Сколько вариантов модели будет в итоге обучено?**\n",
        "\n",
        "Ваш ответ:24"
      ]
    },
    {
      "cell_type": "code",
      "execution_count": null,
      "metadata": {
        "id": "sQNECXh_AS0N"
      },
      "outputs": [],
      "source": [
        "from sklearn.model_selection import GridSearchCV\n",
        "from sklearn.neural_network import MLPClassifier"
      ]
    },
    {
      "cell_type": "markdown",
      "metadata": {
        "id": "W6Y5jQacCVF1"
      },
      "source": [
        "**Что значит cv=3 для GridSearchCV?**\n",
        "\n",
        "Ваш ответ:означает, что мы делим наши данные на 3 части. Мы обучаем модель на двух частях и проверяем её на одной. Этот процесс повторяется три раза, при этом каждая часть данных используется в качестве тестового набора один раз. Так мы можем лучше оценить, насколько модель хорошо работает на разных частях данных.\n",
        "\n",
        "\n",
        "\n"
      ]
    },
    {
      "cell_type": "code",
      "execution_count": null,
      "metadata": {
        "colab": {
          "base_uri": "https://localhost:8080/"
        },
        "id": "2WH47zgjD4UR",
        "outputId": "28fdb09a-531f-45c6-c7f2-99c1560451b8"
      },
      "outputs": [
        {
          "output_type": "stream",
          "name": "stderr",
          "text": [
            "/usr/local/lib/python3.10/dist-packages/sklearn/neural_network/_multilayer_perceptron.py:686: ConvergenceWarning: Stochastic Optimizer: Maximum iterations (1000) reached and the optimization hasn't converged yet.\n",
            "  warnings.warn(\n",
            "/usr/local/lib/python3.10/dist-packages/sklearn/neural_network/_multilayer_perceptron.py:686: ConvergenceWarning: Stochastic Optimizer: Maximum iterations (1000) reached and the optimization hasn't converged yet.\n",
            "  warnings.warn(\n",
            "/usr/local/lib/python3.10/dist-packages/sklearn/neural_network/_multilayer_perceptron.py:686: ConvergenceWarning: Stochastic Optimizer: Maximum iterations (1000) reached and the optimization hasn't converged yet.\n",
            "  warnings.warn(\n",
            "/usr/local/lib/python3.10/dist-packages/sklearn/neural_network/_multilayer_perceptron.py:686: ConvergenceWarning: Stochastic Optimizer: Maximum iterations (1000) reached and the optimization hasn't converged yet.\n",
            "  warnings.warn(\n",
            "/usr/local/lib/python3.10/dist-packages/sklearn/neural_network/_multilayer_perceptron.py:693: UserWarning: Training interrupted by user.\n",
            "  warnings.warn(\"Training interrupted by user.\")\n",
            "/usr/local/lib/python3.10/dist-packages/sklearn/neural_network/_multilayer_perceptron.py:693: UserWarning: Training interrupted by user.\n",
            "  warnings.warn(\"Training interrupted by user.\")\n"
          ]
        },
        {
          "output_type": "stream",
          "name": "stdout",
          "text": [
            "{'activation': 'relu', 'alpha': 0.0001, 'hidden_layer_sizes': (893,), 'learning_rate': 'constant', 'max_iter': 1000, 'random_state': 42, 'solver': 'adam'}\n"
          ]
        },
        {
          "output_type": "stream",
          "name": "stderr",
          "text": [
            "/usr/local/lib/python3.10/dist-packages/sklearn/neural_network/_multilayer_perceptron.py:693: UserWarning: Training interrupted by user.\n",
            "  warnings.warn(\"Training interrupted by user.\")\n"
          ]
        }
      ],
      "source": [
        "mlp = MLPClassifier()\n",
        "grid_search = GridSearchCV(mlp, param_grid, cv=3,scoring='accuracy')\n",
        "grid_search.fit(X_train_scaled,y_train) # Запустите обучение с нужными данными\n",
        "print(grid_search.best_params_)\n"
      ]
    },
    {
      "cell_type": "code",
      "execution_count": null,
      "metadata": {
        "colab": {
          "base_uri": "https://localhost:8080/"
        },
        "id": "e9UUYEoPAvtg",
        "outputId": "a7110fd8-3b29-4194-96cd-8e77927a77be"
      },
      "outputs": [
        {
          "output_type": "stream",
          "name": "stdout",
          "text": [
            "Гиперпараметры модели с лучшим результатом: {'activation': 'relu', 'max_iter': 200, 'solver': 'adam', 'tol': 0.0001}\n",
            "Лучшая точность при кросс валидации: 0.60\n"
          ]
        }
      ],
      "source": [
        "print(f\"Гиперпараметры модели с лучшим результатом: {grid_search.best_params_}\")\n",
        "print(f\"Лучшая точность при кросс валидации: {grid_search.best_score_:.2f}\")\n",
        "\n",
        "\n"
      ]
    },
    {
      "cell_type": "markdown",
      "metadata": {
        "id": "YO7BbXzdCcgB"
      },
      "source": [
        "## Тест наилучшей модели"
      ]
    },
    {
      "cell_type": "code",
      "execution_count": null,
      "metadata": {
        "id": "Wk3d147YAwZE",
        "colab": {
          "base_uri": "https://localhost:8080/"
        },
        "outputId": "edfceb1a-a4c3-481e-dd7f-0ff51b3d57c9"
      },
      "outputs": [
        {
          "output_type": "stream",
          "name": "stdout",
          "text": [
            "Точность на тестовой выборке: 0.70\n"
          ]
        }
      ],
      "source": [
        "test_accuracy = grid_search.score(X_test_scaled,y_test) # Подставьте данные тестовой выборки\n",
        "print(f\"Точность на тестовой выборке: {test_accuracy:.2f}\")"
      ]
    },
    {
      "cell_type": "code",
      "execution_count": null,
      "metadata": {
        "id": "K9vJahQNDKUf",
        "colab": {
          "base_uri": "https://localhost:8080/",
          "height": 75
        },
        "outputId": "fbfbcd3b-bb38-420e-d386-79939f27902c"
      },
      "outputs": [
        {
          "output_type": "execute_result",
          "data": {
            "text/plain": [
              "MLPClassifier()"
            ],
            "text/html": [
              "<style>#sk-container-id-1 {color: black;background-color: white;}#sk-container-id-1 pre{padding: 0;}#sk-container-id-1 div.sk-toggleable {background-color: white;}#sk-container-id-1 label.sk-toggleable__label {cursor: pointer;display: block;width: 100%;margin-bottom: 0;padding: 0.3em;box-sizing: border-box;text-align: center;}#sk-container-id-1 label.sk-toggleable__label-arrow:before {content: \"▸\";float: left;margin-right: 0.25em;color: #696969;}#sk-container-id-1 label.sk-toggleable__label-arrow:hover:before {color: black;}#sk-container-id-1 div.sk-estimator:hover label.sk-toggleable__label-arrow:before {color: black;}#sk-container-id-1 div.sk-toggleable__content {max-height: 0;max-width: 0;overflow: hidden;text-align: left;background-color: #f0f8ff;}#sk-container-id-1 div.sk-toggleable__content pre {margin: 0.2em;color: black;border-radius: 0.25em;background-color: #f0f8ff;}#sk-container-id-1 input.sk-toggleable__control:checked~div.sk-toggleable__content {max-height: 200px;max-width: 100%;overflow: auto;}#sk-container-id-1 input.sk-toggleable__control:checked~label.sk-toggleable__label-arrow:before {content: \"▾\";}#sk-container-id-1 div.sk-estimator input.sk-toggleable__control:checked~label.sk-toggleable__label {background-color: #d4ebff;}#sk-container-id-1 div.sk-label input.sk-toggleable__control:checked~label.sk-toggleable__label {background-color: #d4ebff;}#sk-container-id-1 input.sk-hidden--visually {border: 0;clip: rect(1px 1px 1px 1px);clip: rect(1px, 1px, 1px, 1px);height: 1px;margin: -1px;overflow: hidden;padding: 0;position: absolute;width: 1px;}#sk-container-id-1 div.sk-estimator {font-family: monospace;background-color: #f0f8ff;border: 1px dotted black;border-radius: 0.25em;box-sizing: border-box;margin-bottom: 0.5em;}#sk-container-id-1 div.sk-estimator:hover {background-color: #d4ebff;}#sk-container-id-1 div.sk-parallel-item::after {content: \"\";width: 100%;border-bottom: 1px solid gray;flex-grow: 1;}#sk-container-id-1 div.sk-label:hover label.sk-toggleable__label {background-color: #d4ebff;}#sk-container-id-1 div.sk-serial::before {content: \"\";position: absolute;border-left: 1px solid gray;box-sizing: border-box;top: 0;bottom: 0;left: 50%;z-index: 0;}#sk-container-id-1 div.sk-serial {display: flex;flex-direction: column;align-items: center;background-color: white;padding-right: 0.2em;padding-left: 0.2em;position: relative;}#sk-container-id-1 div.sk-item {position: relative;z-index: 1;}#sk-container-id-1 div.sk-parallel {display: flex;align-items: stretch;justify-content: center;background-color: white;position: relative;}#sk-container-id-1 div.sk-item::before, #sk-container-id-1 div.sk-parallel-item::before {content: \"\";position: absolute;border-left: 1px solid gray;box-sizing: border-box;top: 0;bottom: 0;left: 50%;z-index: -1;}#sk-container-id-1 div.sk-parallel-item {display: flex;flex-direction: column;z-index: 1;position: relative;background-color: white;}#sk-container-id-1 div.sk-parallel-item:first-child::after {align-self: flex-end;width: 50%;}#sk-container-id-1 div.sk-parallel-item:last-child::after {align-self: flex-start;width: 50%;}#sk-container-id-1 div.sk-parallel-item:only-child::after {width: 0;}#sk-container-id-1 div.sk-dashed-wrapped {border: 1px dashed gray;margin: 0 0.4em 0.5em 0.4em;box-sizing: border-box;padding-bottom: 0.4em;background-color: white;}#sk-container-id-1 div.sk-label label {font-family: monospace;font-weight: bold;display: inline-block;line-height: 1.2em;}#sk-container-id-1 div.sk-label-container {text-align: center;}#sk-container-id-1 div.sk-container {/* jupyter's `normalize.less` sets `[hidden] { display: none; }` but bootstrap.min.css set `[hidden] { display: none !important; }` so we also need the `!important` here to be able to override the default hidden behavior on the sphinx rendered scikit-learn.org. See: https://github.com/scikit-learn/scikit-learn/issues/21755 */display: inline-block !important;position: relative;}#sk-container-id-1 div.sk-text-repr-fallback {display: none;}</style><div id=\"sk-container-id-1\" class=\"sk-top-container\"><div class=\"sk-text-repr-fallback\"><pre>MLPClassifier()</pre><b>In a Jupyter environment, please rerun this cell to show the HTML representation or trust the notebook. <br />On GitHub, the HTML representation is unable to render, please try loading this page with nbviewer.org.</b></div><div class=\"sk-container\" hidden><div class=\"sk-item\"><div class=\"sk-estimator sk-toggleable\"><input class=\"sk-toggleable__control sk-hidden--visually\" id=\"sk-estimator-id-1\" type=\"checkbox\" checked><label for=\"sk-estimator-id-1\" class=\"sk-toggleable__label sk-toggleable__label-arrow\">MLPClassifier</label><div class=\"sk-toggleable__content\"><pre>MLPClassifier()</pre></div></div></div></div></div>"
            ]
          },
          "metadata": {},
          "execution_count": 46
        }
      ],
      "source": [
        "# Если понадобится сохранить лучший вариант, то он находится в атрибуте best_estimator_\n",
        "# Все данные по кросс валидации находятся в атрибуте cv_results_\n",
        "\n",
        "grid_search.best_estimator_"
      ]
    },
    {
      "cell_type": "markdown",
      "metadata": {
        "id": "EthloiEIJi3v"
      },
      "source": [
        "**Что такое эпоха (epoch) при обучении модели?**\n",
        "\n",
        "Ваш ответ:д\n",
        "\n",
        "Эпоха (epoch) — это как одно полное повторение урока, где студент видит все примеры (вопросы и ответы) один раз.\n",
        "Если урок повторяется несколько раз (несколько эпох), студент начинает лучше запоминать материал и отвечать на вопросы точнее. Так что эпоха в обучении модели - это как одно полное повторение материала для того, чтобы модель лучше усвоила данные.\n",
        "\n",
        "**Сколько эпох задается изначально при создании MLPClassifier?**\n",
        "\n",
        "Ваш ответ:200\n",
        "\n",
        "**Для чего требуется регуляризация L2 или L1?**\n",
        " Для предотвращения переобучения\n",
        "L1 (LASSO): Позволяет \"выключить\" некоторые признаки, делая их веса равными нулю. Это как выбрасывание менее важных вещей, чтобы упростить модель.\n",
        "\n",
        "L2 (Ridge): Предотвращает слишком большие веса, делая их более равномерными. Это как убеждение, чтобы не давать слишком много внимания каким-то одним признакам.\n",
        "\n",
        "\n",
        "**Сколько параметров в вашей лучшей модели?**\n",
        "\n",
        "Ваш ответ:4"
      ]
    },
    {
      "cell_type": "code",
      "execution_count": null,
      "metadata": {
        "id": "CM_hmiCTAIkL"
      },
      "outputs": [],
      "source": []
    }
  ],
  "metadata": {
    "colab": {
      "provenance": [],
      "include_colab_link": true
    },
    "kernelspec": {
      "display_name": "Python 3",
      "name": "python3"
    },
    "language_info": {
      "name": "python"
    }
  },
  "nbformat": 4,
  "nbformat_minor": 0
}